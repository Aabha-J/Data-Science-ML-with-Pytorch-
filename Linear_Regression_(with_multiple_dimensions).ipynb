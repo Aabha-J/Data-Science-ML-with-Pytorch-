{
  "nbformat": 4,
  "nbformat_minor": 0,
  "metadata": {
    "colab": {
      "provenance": [],
      "authorship_tag": "ABX9TyPM9rnoIEQhd0Qi94p8QyRO",
      "include_colab_link": true
    },
    "kernelspec": {
      "name": "python3",
      "display_name": "Python 3"
    },
    "language_info": {
      "name": "python"
    }
  },
  "cells": [
    {
      "cell_type": "markdown",
      "metadata": {
        "id": "view-in-github",
        "colab_type": "text"
      },
      "source": [
        "<a href=\"https://colab.research.google.com/github/Aabha-J/Data-Science-ML-with-Pytorch-/blob/main/Linear_Regression_(with_multiple_dimensions).ipynb\" target=\"_parent\"><img src=\"https://colab.research.google.com/assets/colab-badge.svg\" alt=\"Open In Colab\"/></a>"
      ]
    },
    {
      "cell_type": "code",
      "execution_count": 5,
      "metadata": {
        "id": "tLv1QOsvmdS7"
      },
      "outputs": [],
      "source": [
        "import sklearn\n",
        "from sklearn.datasets import load_diabetes\n",
        "import pandas as pd\n",
        "import numpy as np\n",
        "import torch\n",
        "import torch.nn as nn\n",
        "import torch.optim as optim\n",
        "import matplotlib.pyplot as plt\n",
        "from sklearn.model_selection import train_test_split"
      ]
    },
    {
      "cell_type": "code",
      "source": [
        "data = sklearn.datasets.load_diabetes()\n",
        "X, y = data['data'], data['target']"
      ],
      "metadata": {
        "id": "S5k5FkQboW0u"
      },
      "execution_count": 6,
      "outputs": []
    },
    {
      "cell_type": "code",
      "source": [
        "device = 'cuda' if torch.cuda.is_available() else 'cpu'\n",
        "device"
      ],
      "metadata": {
        "colab": {
          "base_uri": "https://localhost:8080/",
          "height": 35
        },
        "id": "tp77jGdMrHHd",
        "outputId": "2784704d-c9f1-4fee-bc13-216d467f86c7"
      },
      "execution_count": 7,
      "outputs": [
        {
          "output_type": "execute_result",
          "data": {
            "text/plain": [
              "'cpu'"
            ],
            "application/vnd.google.colaboratory.intrinsic+json": {
              "type": "string"
            }
          },
          "metadata": {},
          "execution_count": 7
        }
      ]
    },
    {
      "cell_type": "code",
      "source": [
        "X_train, X_test, y_train, y_test = train_test_split(X, y)\n",
        "X_train, X_test, y_train, y_test = [torch.tensor(data, dtype = torch.float32) for data in [X_train, X_test, y_train, y_test]]\n",
        "X_train, X_test, y_train, y_test = X_train.to(device), X_test.to(device), y_train.to(device), y_test.to(device)"
      ],
      "metadata": {
        "id": "L67M9nwgovX0"
      },
      "execution_count": 8,
      "outputs": []
    },
    {
      "cell_type": "code",
      "source": [
        "class LinearRegressionModel(nn.Module):\n",
        "  def __init__(self, input_dim:int):\n",
        "    super().__init__()\n",
        "    self.linear = nn.Linear(in_features=input_dim, out_features=1)\n",
        "\n",
        "  def forward(self, x):\n",
        "    return self.linear(x)"
      ],
      "metadata": {
        "id": "zkWAbUuPsNks"
      },
      "execution_count": 9,
      "outputs": []
    },
    {
      "cell_type": "code",
      "source": [
        "input_size = X_train.shape[1]\n",
        "input_size"
      ],
      "metadata": {
        "colab": {
          "base_uri": "https://localhost:8080/"
        },
        "id": "xPYvwPlhCp7O",
        "outputId": "95eeca18-d3da-40af-d34a-82ca23be2a08"
      },
      "execution_count": 10,
      "outputs": [
        {
          "output_type": "execute_result",
          "data": {
            "text/plain": [
              "10"
            ]
          },
          "metadata": {},
          "execution_count": 10
        }
      ]
    },
    {
      "cell_type": "code",
      "source": [
        "model1 = LinearRegressionModel(10)"
      ],
      "metadata": {
        "id": "TOw_3gn4CdAz"
      },
      "execution_count": 23,
      "outputs": []
    },
    {
      "cell_type": "code",
      "source": [
        "loss_fn = nn.MSELoss()\n",
        "optimizer = optim.SGD(params = model1.parameters(), lr = 0.01)\n"
      ],
      "metadata": {
        "id": "WvSn5oZ7FHQB"
      },
      "execution_count": 24,
      "outputs": []
    },
    {
      "cell_type": "code",
      "source": [
        "X_train.shape, y_train.shape"
      ],
      "metadata": {
        "colab": {
          "base_uri": "https://localhost:8080/"
        },
        "id": "NPkT_LOpNNou",
        "outputId": "2a91b1c9-422b-421d-a395-da19e850b191"
      },
      "execution_count": 14,
      "outputs": [
        {
          "output_type": "execute_result",
          "data": {
            "text/plain": [
              "(torch.Size([331, 10]), torch.Size([331]))"
            ]
          },
          "metadata": {},
          "execution_count": 14
        }
      ]
    },
    {
      "cell_type": "code",
      "source": [
        "def train_test_loop(model: nn.Module, epochs:int, X_train, X_test, y_train, y_test):\n",
        "  list_epoch = []\n",
        "  list_train_loss = []\n",
        "  list_test_loss = []\n",
        "\n",
        "  for epoch in range(epochs):\n",
        "    model.train()\n",
        "    model.to(device)\n",
        "    preds = model(X_train)\n",
        "\n",
        "    loss = loss_fn(preds, y_train.unsqueeze(1))\n",
        "\n",
        "    optimizer.zero_grad()\n",
        "    loss.backward()\n",
        "    optimizer.step()\n",
        "\n",
        "    model.eval()\n",
        "\n",
        "    with torch.inference_mode():\n",
        "      test_pred = model(X_test)\n",
        "      test_loss = loss_fn(test_pred, y_test.unsqueeze(1))\n",
        "\n",
        "    if epoch % 10 == 0:\n",
        "      list_epoch.append(epoch)\n",
        "      list_train_loss.append(loss.item())\n",
        "      list_test_loss.append(test_loss.item())\n",
        "\n",
        "  return list_epoch, list_train_loss, list_test_loss"
      ],
      "metadata": {
        "id": "2_USQRbwFbaH"
      },
      "execution_count": 32,
      "outputs": []
    },
    {
      "cell_type": "code",
      "source": [
        "import matplotlib.pyplot as plt\n",
        "\n",
        "def plot_loss_curves(epochs, train_losses, test_losses):\n",
        "  plt.plot(epochs, train_losses, label='Train Loss', color='red')\n",
        "\n",
        "  plt.plot(epochs, test_losses, label='Test', color='blue')\n",
        "\n",
        "  # Add labels and legend\n",
        "  plt.xlabel('Epochs')\n",
        "  plt.ylabel('Loss')\n",
        "  plt.title('Loss')\n",
        "  plt.legend()\n",
        "\n",
        "  # Display the plot\n",
        "  plt.show()\n"
      ],
      "metadata": {
        "id": "2qaZn0iJJL9f"
      },
      "execution_count": 28,
      "outputs": []
    },
    {
      "cell_type": "code",
      "source": [
        "epochnums, train_losses, test_losses = train_test_loop(model1,1000, X_train, X_test, y_train, y_test)\n",
        "plot_loss_curves(epochnums, train_losses, test_losses)"
      ],
      "metadata": {
        "colab": {
          "base_uri": "https://localhost:8080/",
          "height": 472
        },
        "id": "l5fim7aROcUk",
        "outputId": "2f568bd0-07d2-4af3-f3e2-16a0705701e7"
      },
      "execution_count": 33,
      "outputs": [
        {
          "output_type": "display_data",
          "data": {
            "text/plain": [
              "<Figure size 640x480 with 1 Axes>"
            ],
            "image/png": "[encoded data removed]"
          },
          "metadata": {}
        }
      ]
    }
  ]
}